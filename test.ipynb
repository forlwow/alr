{
 "cells": [
  {
   "cell_type": "code",
   "execution_count": 1,
   "metadata": {},
   "outputs": [
    {
     "ename": "IndexError",
     "evalue": "list index out of range",
     "output_type": "error",
     "traceback": [
      "\u001b[1;31m---------------------------------------------------------------------------\u001b[0m",
      "\u001b[1;31mIndexError\u001b[0m                                Traceback (most recent call last)",
      "\u001b[1;32md:\\OneDrive\\OneDrive - 14clyf\\Codes_Cpp\\alr\\test.ipynb Cell 1\u001b[0m in \u001b[0;36m1\n\u001b[0;32m      <a href='vscode-notebook-cell:/d%3A/OneDrive/OneDrive%20-%2014clyf/Codes_Cpp/alr/test.ipynb#W0sZmlsZQ%3D%3D?line=8'>9</a>\u001b[0m i, n \u001b[39m=\u001b[39m \u001b[39m1\u001b[39m, \u001b[39mlen\u001b[39m(li)\n\u001b[0;32m     <a href='vscode-notebook-cell:/d%3A/OneDrive/OneDrive%20-%2014clyf/Codes_Cpp/alr/test.ipynb#W0sZmlsZQ%3D%3D?line=9'>10</a>\u001b[0m \u001b[39mwhile\u001b[39;00m i \u001b[39m<\u001b[39m n:\n\u001b[1;32m---> <a href='vscode-notebook-cell:/d%3A/OneDrive/OneDrive%20-%2014clyf/Codes_Cpp/alr/test.ipynb#W0sZmlsZQ%3D%3D?line=10'>11</a>\u001b[0m     tmp \u001b[39m=\u001b[39m dp[i\u001b[39m-\u001b[39;49m\u001b[39m1\u001b[39;49m]\n\u001b[0;32m     <a href='vscode-notebook-cell:/d%3A/OneDrive/OneDrive%20-%2014clyf/Codes_Cpp/alr/test.ipynb#W0sZmlsZQ%3D%3D?line=11'>12</a>\u001b[0m     j \u001b[39m=\u001b[39m i \u001b[39m-\u001b[39m \u001b[39m2\u001b[39m\n\u001b[0;32m     <a href='vscode-notebook-cell:/d%3A/OneDrive/OneDrive%20-%2014clyf/Codes_Cpp/alr/test.ipynb#W0sZmlsZQ%3D%3D?line=12'>13</a>\u001b[0m     \u001b[39mwhile\u001b[39;00m j \u001b[39m>\u001b[39m\u001b[39m=\u001b[39m \u001b[39m0\u001b[39m \u001b[39mand\u001b[39;00m (a \u001b[39m<\u001b[39m\u001b[39m=\u001b[39m li[i] \u001b[39m-\u001b[39m li[j] \u001b[39m<\u001b[39m\u001b[39m=\u001b[39m b):\n",
      "\u001b[1;31mIndexError\u001b[0m: list index out of range"
     ]
    }
   ],
   "source": [
    "import bisect\n",
    "li = [0, 990, 1010, 1970, 2030, 2940, 3060, 3930, 4060, 4970, 5030, 5990, 6010, 7000]\n",
    "a = int(input())\n",
    "b = int(input())\n",
    "n = int(input())\n",
    "for _ in range(n):\n",
    "    bisect.insort(li, int(input()))\n",
    "dp = [1]\n",
    "i, n = 1, len(li)\n",
    "while i < n:\n",
    "    tmp = dp[i-1]\n",
    "    j = i - 2\n",
    "    while j >= 0 and (a <= li[i] - li[j] <= b):\n",
    "        tmp += dp[j]\n",
    "        j -= 1\n",
    "    i += 1\n",
    "print(dp[-1])"
   ]
  }
 ],
 "metadata": {
  "kernelspec": {
   "display_name": "Python 3",
   "language": "python",
   "name": "python3"
  },
  "language_info": {
   "codemirror_mode": {
    "name": "ipython",
    "version": 3
   },
   "file_extension": ".py",
   "mimetype": "text/x-python",
   "name": "python",
   "nbconvert_exporter": "python",
   "pygments_lexer": "ipython3",
   "version": "3.9.13"
  },
  "orig_nbformat": 4
 },
 "nbformat": 4,
 "nbformat_minor": 2
}
